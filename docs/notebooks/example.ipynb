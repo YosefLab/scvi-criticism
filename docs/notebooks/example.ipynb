{
 "cells": [
  {
   "cell_type": "markdown",
   "metadata": {},
   "source": [
    "# Example notebook"
   ]
  },
  {
   "cell_type": "code",
   "execution_count": 1,
   "metadata": {},
   "outputs": [],
   "source": [
    "import numpy as np\n",
    "from anndata import AnnData\n",
    "import scvi_criticism"
   ]
  },
  {
   "cell_type": "code",
   "execution_count": 2,
   "metadata": {},
   "outputs": [],
   "source": [
    "adata = AnnData(np.random.normal(size=(20, 10)))"
   ]
  },
  {
   "cell_type": "code",
   "execution_count": 3,
   "metadata": {},
   "outputs": [
    {
     "name": "stdout",
     "output_type": "stream",
     "text": [
      "Implement a preprocessing function here."
     ]
    },
    {
     "data": {
      "text/plain": [
       "0"
      ]
     },
     "execution_count": 3,
     "metadata": {},
     "output_type": "execute_result"
    }
   ],
   "source": [
    "scvi_criticism.pp.basic_preproc(adata)"
   ]
  }
 ],
 "metadata": {
  "kernelspec": {
   "display_name": "gemvi-2",
   "language": "python",
   "name": "python3"
  },
  "language_info": {
   "codemirror_mode": {
    "name": "ipython",
    "version": 3
   },
   "file_extension": ".py",
   "mimetype": "text/x-python",
   "name": "python",
   "nbconvert_exporter": "python",
   "pygments_lexer": "ipython3",
   "version": "3.9.6 (default, Aug 16 2021, 12:43:27) \n[Clang 12.0.0 ]"
  },
  "vscode": {
   "interpreter": {
    "hash": "2a8522f934b945d50ad2bd1f03e67ae7edc4e653755299eaeefa8bf1b1161329"
   }
  }
 },
 "nbformat": 4,
 "nbformat_minor": 4
}
